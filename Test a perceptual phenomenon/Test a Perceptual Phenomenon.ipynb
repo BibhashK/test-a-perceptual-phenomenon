{
 "cells": [
  {
   "cell_type": "markdown",
   "metadata": {},
   "source": [
    "### Analyzing the Stroop Effect\n",
    "Perform the analysis in the space below. Remember to follow [the instructions](https://docs.google.com/document/d/1-OkpZLjG_kX9J6LIQ5IltsqMzVWjh36QpnP2RYpVdPU/pub?embedded=True) and review the [project rubric](https://review.udacity.com/#!/rubrics/71/view) before submitting. Once you've completed the analysis and write up, download this file as a PDF or HTML file and submit in the next section.\n",
    "\n",
    "### Table of Contents:\n",
    "\n",
    "* Variables\n",
    "* Hypothesis\n",
    "* Descriptive Statistics\n",
    "* Visualizations\n",
    "* Statistical Analysis & Reporting\n",
    "* Optional Task\n"
   ]
  },
  {
   "cell_type": "markdown",
   "metadata": {},
   "source": [
    "### Variables:"
   ]
  },
  {
   "cell_type": "markdown",
   "metadata": {},
   "source": [
    "#### (1) What is the independent variable? What is the dependent variable?"
   ]
  },
  {
   "cell_type": "markdown",
   "metadata": {},
   "source": [
    "* The independent variable in this stroop experiment is WORD-COLOR/INCONGRUENCE,whether the printed font color and word is presented to the participants matched or not matched.\n",
    "     * An independent variable is a variable that is being manipulated in an experiment in order to observe the effect of dependent variable, it is also called a predictor variable\n",
    "    \n",
    "\n",
    "* The dependent variable in this stroop experiment is reaction time to the WORD-COLOR patterns, which is the response time taken in tests to state the color of the printed font\n",
    "     * A dependent variable is a variable whose value depends upon independent variable.The dependent variable is sometimes called the outcome variable "
   ]
  },
  {
   "cell_type": "markdown",
   "metadata": {},
   "source": [
    "(2) What is an appropriate set of hypotheses for this task? What kind of statistical test do you expect to perform? Justify your choices."
   ]
  },
  {
   "cell_type": "markdown",
   "metadata": {},
   "source": [
    "* I would run a paired t-test for hypothesis testing here\n",
    "* I would state the reaction times for word-color match and mismatch word color are the same"
   ]
  },
  {
   "cell_type": "markdown",
   "metadata": {},
   "source": [
    "### Hypothesis:"
   ]
  },
  {
   "cell_type": "markdown",
   "metadata": {},
   "source": [
    "* Null Hypothesis ->  $H_{0}$ : $t_{match}$ -  $t_{mismatch}$ = 0\n",
    "* Alternate Hypothesis -> $H_{1}$ : $t_{match}$ -  $t_{mismatch}$ != 0\n",
    "* $t_{match}$ - mean population reaction time for Congruent set \n",
    "* $t_{mismatch}$ - mean population reaction time for Incongruent set\n",
    "* Null Hypothesis states that there is no difference in the mean response times for word-color congruent and incongruent sets\n",
    "\n",
    "* Alternate Hypothesis states that there is a difference in the mean response time to state the font color in word-color congruence set as compared to incongruent set"
   ]
  },
  {
   "cell_type": "markdown",
   "metadata": {},
   "source": [
    "### Justification for paired t-test:\n",
    "\n",
    "* The sample size is less than 30\n",
    "* experiment is similar to Before and After experiment as the first set trained subjects on the study while the second set showed the Stroop Effect Incongruent set of words\n",
    "* Thus, the second set is Dependent set and the reaction times in this set cannot be considered completely independent\n",
    "* Hence, we use the paired t-test"
   ]
  },
  {
   "cell_type": "markdown",
   "metadata": {},
   "source": [
    "## Descriptive Statistics:"
   ]
  },
  {
   "cell_type": "markdown",
   "metadata": {},
   "source": [
    "(3) Report some descriptive statistics regarding this dataset. Include at least one measure of central tendency and at least one measure of variability. The name of the data file is 'stroopdata.csv'."
   ]
  },
  {
   "cell_type": "code",
   "execution_count": 31,
   "metadata": {},
   "outputs": [],
   "source": [
    "# Import the packages\n",
    "import pandas as pd\n",
    "import numpy as np\n",
    "import scipy.stats as stats\n",
    "import math\n",
    "import random\n",
    "import seaborn as sns\n",
    "import matplotlib.pyplot as plt\n",
    "%matplotlib inline"
   ]
  },
  {
   "cell_type": "code",
   "execution_count": 3,
   "metadata": {},
   "outputs": [
    {
     "data": {
      "text/html": [
       "<div>\n",
       "<style>\n",
       "    .dataframe thead tr:only-child th {\n",
       "        text-align: right;\n",
       "    }\n",
       "\n",
       "    .dataframe thead th {\n",
       "        text-align: left;\n",
       "    }\n",
       "\n",
       "    .dataframe tbody tr th {\n",
       "        vertical-align: top;\n",
       "    }\n",
       "</style>\n",
       "<table border=\"1\" class=\"dataframe\">\n",
       "  <thead>\n",
       "    <tr style=\"text-align: right;\">\n",
       "      <th></th>\n",
       "      <th>Congruent</th>\n",
       "      <th>Incongruent</th>\n",
       "    </tr>\n",
       "  </thead>\n",
       "  <tbody>\n",
       "    <tr>\n",
       "      <th>0</th>\n",
       "      <td>12.079</td>\n",
       "      <td>19.278</td>\n",
       "    </tr>\n",
       "    <tr>\n",
       "      <th>1</th>\n",
       "      <td>16.791</td>\n",
       "      <td>18.741</td>\n",
       "    </tr>\n",
       "    <tr>\n",
       "      <th>2</th>\n",
       "      <td>9.564</td>\n",
       "      <td>21.214</td>\n",
       "    </tr>\n",
       "    <tr>\n",
       "      <th>3</th>\n",
       "      <td>8.630</td>\n",
       "      <td>15.687</td>\n",
       "    </tr>\n",
       "    <tr>\n",
       "      <th>4</th>\n",
       "      <td>14.669</td>\n",
       "      <td>22.803</td>\n",
       "    </tr>\n",
       "  </tbody>\n",
       "</table>\n",
       "</div>"
      ],
      "text/plain": [
       "   Congruent  Incongruent\n",
       "0     12.079       19.278\n",
       "1     16.791       18.741\n",
       "2      9.564       21.214\n",
       "3      8.630       15.687\n",
       "4     14.669       22.803"
      ]
     },
     "execution_count": 3,
     "metadata": {},
     "output_type": "execute_result"
    }
   ],
   "source": [
    "# read data set \n",
    "df = pd.read_csv('stroopdata.csv')\n",
    "df.head()"
   ]
  },
  {
   "cell_type": "code",
   "execution_count": 4,
   "metadata": {},
   "outputs": [
    {
     "name": "stdout",
     "output_type": "stream",
     "text": [
      "<class 'pandas.core.frame.DataFrame'>\n",
      "RangeIndex: 24 entries, 0 to 23\n",
      "Data columns (total 2 columns):\n",
      "Congruent      24 non-null float64\n",
      "Incongruent    24 non-null float64\n",
      "dtypes: float64(2)\n",
      "memory usage: 464.0 bytes\n"
     ]
    }
   ],
   "source": [
    "df.info()"
   ]
  },
  {
   "cell_type": "code",
   "execution_count": 5,
   "metadata": {},
   "outputs": [
    {
     "data": {
      "text/html": [
       "<div>\n",
       "<style>\n",
       "    .dataframe thead tr:only-child th {\n",
       "        text-align: right;\n",
       "    }\n",
       "\n",
       "    .dataframe thead th {\n",
       "        text-align: left;\n",
       "    }\n",
       "\n",
       "    .dataframe tbody tr th {\n",
       "        vertical-align: top;\n",
       "    }\n",
       "</style>\n",
       "<table border=\"1\" class=\"dataframe\">\n",
       "  <thead>\n",
       "    <tr style=\"text-align: right;\">\n",
       "      <th></th>\n",
       "      <th>Congruent</th>\n",
       "      <th>Incongruent</th>\n",
       "    </tr>\n",
       "  </thead>\n",
       "  <tbody>\n",
       "    <tr>\n",
       "      <th>count</th>\n",
       "      <td>24.000000</td>\n",
       "      <td>24.000000</td>\n",
       "    </tr>\n",
       "    <tr>\n",
       "      <th>mean</th>\n",
       "      <td>14.051125</td>\n",
       "      <td>22.015917</td>\n",
       "    </tr>\n",
       "    <tr>\n",
       "      <th>std</th>\n",
       "      <td>3.559358</td>\n",
       "      <td>4.797057</td>\n",
       "    </tr>\n",
       "    <tr>\n",
       "      <th>min</th>\n",
       "      <td>8.630000</td>\n",
       "      <td>15.687000</td>\n",
       "    </tr>\n",
       "    <tr>\n",
       "      <th>25%</th>\n",
       "      <td>11.895250</td>\n",
       "      <td>18.716750</td>\n",
       "    </tr>\n",
       "    <tr>\n",
       "      <th>50%</th>\n",
       "      <td>14.356500</td>\n",
       "      <td>21.017500</td>\n",
       "    </tr>\n",
       "    <tr>\n",
       "      <th>75%</th>\n",
       "      <td>16.200750</td>\n",
       "      <td>24.051500</td>\n",
       "    </tr>\n",
       "    <tr>\n",
       "      <th>max</th>\n",
       "      <td>22.328000</td>\n",
       "      <td>35.255000</td>\n",
       "    </tr>\n",
       "  </tbody>\n",
       "</table>\n",
       "</div>"
      ],
      "text/plain": [
       "       Congruent  Incongruent\n",
       "count  24.000000    24.000000\n",
       "mean   14.051125    22.015917\n",
       "std     3.559358     4.797057\n",
       "min     8.630000    15.687000\n",
       "25%    11.895250    18.716750\n",
       "50%    14.356500    21.017500\n",
       "75%    16.200750    24.051500\n",
       "max    22.328000    35.255000"
      ]
     },
     "execution_count": 5,
     "metadata": {},
     "output_type": "execute_result"
    }
   ],
   "source": [
    "df.describe()"
   ]
  },
  {
   "cell_type": "markdown",
   "metadata": {},
   "source": [
    "\n",
    "Here, we need to calculate at least one measure of central tendency and at least one measure of variability. Hence, we compute the following values:\n",
    "\n",
    "* Median for measure of central tendency\n",
    "* Mean and interquartile ranges are already computed in above step.\n",
    "* We also compute variance and standard deviation as measures of variability."
   ]
  },
  {
   "cell_type": "code",
   "execution_count": 5,
   "metadata": {},
   "outputs": [
    {
     "data": {
      "text/plain": [
       "Congruent      14.051125\n",
       "Incongruent    22.015917\n",
       "dtype: float64"
      ]
     },
     "execution_count": 5,
     "metadata": {},
     "output_type": "execute_result"
    }
   ],
   "source": [
    "# determine mean\n",
    "df.mean()"
   ]
  },
  {
   "cell_type": "code",
   "execution_count": 6,
   "metadata": {},
   "outputs": [
    {
     "data": {
      "text/plain": [
       "Congruent      12.669029\n",
       "Incongruent    23.011757\n",
       "dtype: float64"
      ]
     },
     "execution_count": 6,
     "metadata": {},
     "output_type": "execute_result"
    }
   ],
   "source": [
    "# determine variance\n",
    "df.var()"
   ]
  },
  {
   "cell_type": "code",
   "execution_count": 7,
   "metadata": {},
   "outputs": [
    {
     "data": {
      "text/plain": [
       "Congruent      3.559358\n",
       "Incongruent    4.797057\n",
       "dtype: float64"
      ]
     },
     "execution_count": 7,
     "metadata": {},
     "output_type": "execute_result"
    }
   ],
   "source": [
    "# detremine standard deviation\n",
    "df.std()"
   ]
  },
  {
   "cell_type": "markdown",
   "metadata": {},
   "source": [
    "## visualizations:"
   ]
  },
  {
   "cell_type": "markdown",
   "metadata": {},
   "source": [
    "(4) Provide one or two visualizations that show the distribution of the sample data. Write one or two sentences noting what you observe about the plot or plots."
   ]
  },
  {
   "cell_type": "code",
   "execution_count": 8,
   "metadata": {},
   "outputs": [],
   "source": [
    "# Build the visualizations here\n",
    "# Firs we plot histograms for values in Congruent and Incongruent sets"
   ]
  },
  {
   "cell_type": "code",
   "execution_count": 9,
   "metadata": {},
   "outputs": [
    {
     "data": {
      "image/png": "[encoded data removed]",
      "text/plain": [
       "<matplotlib.figure.Figure at 0x7fceb8386f98>"
      ]
     },
     "metadata": {},
     "output_type": "display_data"
    }
   ],
   "source": [
    "# Build the visualizations for Congruent set\n",
    "plt.hist(df['Congruent'])\n",
    "plt.xlabel('Congruent')\n",
    "plt.ylabel('Frequency')\n",
    "plt.title('Plot of Congruent set in Stroop effect');"
   ]
  },
  {
   "cell_type": "code",
   "execution_count": 29,
   "metadata": {},
   "outputs": [
    {
     "data": {
      "image/png": "[encoded data removed]",
      "text/plain": [
       "<matplotlib.figure.Figure at 0x7fceb60b2518>"
      ]
     },
     "metadata": {},
     "output_type": "display_data"
    }
   ],
   "source": [
    "# Build the visualizations for Incongruent set\n",
    "plt.hist(df['Incongruent'],color='orange')\n",
    "plt.xlabel('Incongruent')\n",
    "plt.ylabel('Frequency')\n",
    "plt.title('Plot of Incongruent set in Stroop effect');"
   ]
  },
  {
   "cell_type": "code",
   "execution_count": 30,
   "metadata": {},
   "outputs": [
    {
     "data": {
      "image/png": "[encoded data removed]",
      "text/plain": [
       "<matplotlib.figure.Figure at 0x7fceb5f5de10>"
      ]
     },
     "metadata": {},
     "output_type": "display_data"
    }
   ],
   "source": [
    "# plotting reacton times for congruent and incongruent sets\n",
    "plt.scatter(x = df['Congruent'], y = df['Incongruent'],color='rgb');\n",
    "plt.xlabel('Congruent')\n",
    "plt.ylabel('Incongruent')\n",
    "plt.title('COngruent Reaction Time vs Incongruent Reaction Time');"
   ]
  },
  {
   "cell_type": "code",
   "execution_count": 12,
   "metadata": {},
   "outputs": [
    {
     "data": {
      "text/html": [
       "<div>\n",
       "<style>\n",
       "    .dataframe thead tr:only-child th {\n",
       "        text-align: right;\n",
       "    }\n",
       "\n",
       "    .dataframe thead th {\n",
       "        text-align: left;\n",
       "    }\n",
       "\n",
       "    .dataframe tbody tr th {\n",
       "        vertical-align: top;\n",
       "    }\n",
       "</style>\n",
       "<table border=\"1\" class=\"dataframe\">\n",
       "  <thead>\n",
       "    <tr style=\"text-align: right;\">\n",
       "      <th></th>\n",
       "      <th>Congruent</th>\n",
       "      <th>Incongruent</th>\n",
       "    </tr>\n",
       "  </thead>\n",
       "  <tbody>\n",
       "    <tr>\n",
       "      <th>Congruent</th>\n",
       "      <td>1.00000</td>\n",
       "      <td>0.35182</td>\n",
       "    </tr>\n",
       "    <tr>\n",
       "      <th>Incongruent</th>\n",
       "      <td>0.35182</td>\n",
       "      <td>1.00000</td>\n",
       "    </tr>\n",
       "  </tbody>\n",
       "</table>\n",
       "</div>"
      ],
      "text/plain": [
       "             Congruent  Incongruent\n",
       "Congruent      1.00000      0.35182\n",
       "Incongruent    0.35182      1.00000"
      ]
     },
     "execution_count": 12,
     "metadata": {},
     "output_type": "execute_result"
    }
   ],
   "source": [
    "\n",
    "# We calculate correlation between the reaction times for congruent and incongruent experiments to see relation if any\n",
    "df.corr()"
   ]
  },
  {
   "cell_type": "markdown",
   "metadata": {},
   "source": [
    "\n",
    "We make the following observations from the plots above:\n",
    "\n",
    "* For word-color match, most likey reaction time is 14-15 seconds.\n",
    "* For word-color mismatch, most likey reaction time is 20-21 seconds.\n",
    "* Both distributions are right skewed. The incongruent set however, shows no values in the 27 and 33.5   range\n",
    "* We view a roughly positive, proportional correlation with few outliers. But, as seen in the        calculated values (above), the correlation is not very strong."
   ]
  },
  {
   "cell_type": "markdown",
   "metadata": {},
   "source": [
    "## Statistical Analysis & Reporting:"
   ]
  },
  {
   "cell_type": "markdown",
   "metadata": {},
   "source": [
    "(5) Now, perform the statistical test and report the results. What is the confidence level and your critical statistic value? Do you reject the null hypothesis or fail to reject it? Come to a conclusion in terms of the experiment task. Did the results match up with your expectations?"
   ]
  },
  {
   "cell_type": "markdown",
   "metadata": {},
   "source": [
    "### Performing the statistical test here"
   ]
  },
  {
   "cell_type": "code",
   "execution_count": 14,
   "metadata": {},
   "outputs": [
    {
     "name": "stdout",
     "output_type": "stream",
     "text": [
      "Sample Size N is 24\n"
     ]
    }
   ],
   "source": [
    "# Evaluate Sample Size from shape function applied to dataset\n",
    "N = df.shape[0]\n",
    "print(\"Sample Size N is {}\".format(N))"
   ]
  },
  {
   "cell_type": "code",
   "execution_count": 15,
   "metadata": {},
   "outputs": [],
   "source": [
    "# Get distribution of Congruent experiment values\n",
    "a = df['Congruent']\n",
    "# distribution of Incongruent experiment values\n",
    "b = df['Incongruent']"
   ]
  },
  {
   "cell_type": "code",
   "execution_count": 16,
   "metadata": {},
   "outputs": [
    {
     "name": "stdout",
     "output_type": "stream",
     "text": [
      "12.6690290707 23.0117570362\n"
     ]
    }
   ],
   "source": [
    "# We have to calculate the Standard Deviation. Hence, first we compute the variance\n",
    "#For unbiased max likelihood estimate we have to divide the var by N-1, and therefore the parameter ddof = 1\n",
    "\n",
    "var_a = a.var(ddof=1)\n",
    "var_b = b.var(ddof=1)\n",
    "\n",
    "print(var_a, var_b)"
   ]
  },
  {
   "cell_type": "code",
   "execution_count": 17,
   "metadata": {},
   "outputs": [
    {
     "name": "stdout",
     "output_type": "stream",
     "text": [
      "Standard Deviation is 4.223788945182042\n"
     ]
    }
   ],
   "source": [
    "## Calculate the Standard Deviation\n",
    "s = np.sqrt((var_a + var_b)/2)\n",
    "print(\"Standard Deviation is {}\".format(s))"
   ]
  },
  {
   "cell_type": "code",
   "execution_count": 18,
   "metadata": {},
   "outputs": [
    {
     "name": "stdout",
     "output_type": "stream",
     "text": [
      "Mean for Congruent and Incongruent response times are 14.0511 and 22.0159\n"
     ]
    }
   ],
   "source": [
    "# Calculate mean for Congruent and Incongruent sets\n",
    "a_mean = a.mean()\n",
    "b_mean = b.mean()\n",
    "print(\"Mean for Congruent and Incongruent response times are {} and {}\".format(round(a_mean,4), round(b_mean,4)))"
   ]
  },
  {
   "cell_type": "code",
   "execution_count": 19,
   "metadata": {},
   "outputs": [
    {
     "name": "stdout",
     "output_type": "stream",
     "text": [
      "-7.96479166667\n"
     ]
    }
   ],
   "source": [
    "\n",
    "# Point Estimate for Null Hypothesis\n",
    "mean_diff = a_mean - b_mean\n",
    "print(mean_diff)"
   ]
  },
  {
   "cell_type": "code",
   "execution_count": 20,
   "metadata": {},
   "outputs": [
    {
     "data": {
      "text/plain": [
       "0     -7.199\n",
       "1     -1.950\n",
       "2    -11.650\n",
       "3     -7.057\n",
       "4     -8.134\n",
       "5     -8.640\n",
       "6     -9.880\n",
       "7     -8.407\n",
       "8    -11.361\n",
       "9    -11.802\n",
       "10    -2.196\n",
       "11    -3.346\n",
       "12    -2.437\n",
       "13    -3.401\n",
       "14   -17.055\n",
       "15   -10.028\n",
       "16    -6.644\n",
       "17    -9.790\n",
       "18    -6.081\n",
       "19   -21.919\n",
       "20   -10.950\n",
       "21    -3.727\n",
       "22    -2.348\n",
       "23    -5.153\n",
       "dtype: float64"
      ]
     },
     "execution_count": 20,
     "metadata": {},
     "output_type": "execute_result"
    }
   ],
   "source": [
    "# calculate differences between the two response times\n",
    "diff = a - b\n",
    "diff"
   ]
  },
  {
   "cell_type": "code",
   "execution_count": 21,
   "metadata": {},
   "outputs": [
    {
     "data": {
      "text/plain": [
       "-7.9648000000000003"
      ]
     },
     "execution_count": 21,
     "metadata": {},
     "output_type": "execute_result"
    }
   ],
   "source": [
    "\n",
    "# Mean of difference in response times\n",
    "mean_diff_resp_time = round(diff.mean(),4)\n",
    "mean_diff_resp_time\n",
    "# Note value same as point estimate"
   ]
  },
  {
   "cell_type": "code",
   "execution_count": 22,
   "metadata": {},
   "outputs": [
    {
     "data": {
      "text/plain": [
       "0       0.586450\n",
       "1      36.177819\n",
       "2      13.580699\n",
       "3       0.824101\n",
       "4       0.028629\n",
       "5       0.455895\n",
       "6       3.667991\n",
       "7       0.195541\n",
       "8      11.534174\n",
       "9      14.724104\n",
       "10     33.279053\n",
       "11     21.333313\n",
       "12     30.556573\n",
       "13     20.828270\n",
       "14     82.631736\n",
       "15      4.256794\n",
       "16      1.744513\n",
       "17      3.331355\n",
       "18      3.548702\n",
       "19    194.719698\n",
       "20      8.911419\n",
       "21     17.958949\n",
       "22     31.548442\n",
       "23      7.906219\n",
       "dtype: float64"
      ]
     },
     "execution_count": 22,
     "metadata": {},
     "output_type": "execute_result"
    }
   ],
   "source": [
    "# Calculate squared deviations from the mean\n",
    "sq_dev_from_mean = (diff - mean_diff_resp_time)**2\n",
    "sq_dev_from_mean"
   ]
  },
  {
   "cell_type": "code",
   "execution_count": 23,
   "metadata": {},
   "outputs": [
    {
     "data": {
      "text/plain": [
       "23.666540867826093"
      ]
     },
     "execution_count": 23,
     "metadata": {},
     "output_type": "execute_result"
    }
   ],
   "source": [
    "std_dev_sq = sum(sq_dev_from_mean)/(N-1)\n",
    "std_dev_sq"
   ]
  },
  {
   "cell_type": "code",
   "execution_count": 24,
   "metadata": {},
   "outputs": [
    {
     "data": {
      "text/plain": [
       "4.864826910366503"
      ]
     },
     "execution_count": 24,
     "metadata": {},
     "output_type": "execute_result"
    }
   ],
   "source": [
    "#calculate standard deviation for sample\n",
    "sample_std_dev = math.sqrt(std_dev_sq)\n",
    "sample_std_dev"
   ]
  },
  {
   "cell_type": "code",
   "execution_count": 25,
   "metadata": {},
   "outputs": [
    {
     "data": {
      "text/plain": [
       "-8.0207153359335646"
      ]
     },
     "execution_count": 25,
     "metadata": {},
     "output_type": "execute_result"
    }
   ],
   "source": [
    "# calculate t-value\n",
    "t = (mean_diff_resp_time/sample_std_dev)*(math.sqrt(N))\n",
    "t"
   ]
  },
  {
   "cell_type": "markdown",
   "metadata": {},
   "source": [
    "\n",
    "Observations:\n",
    "\n",
    "* We assume alpha values of 0.05\n",
    "* Hence, we have 0.025 in each tail\n",
    "* With N-1 degrees of freedon, ie. 23, we get positive and negative t-critical values from t-table\n",
    "* These are : +2.069 and -2.069\n",
    "* As our t-value value is beyond the t-critical values, we reject the Null Hypothesis\n",
    "* It takes less time with color-word match than mismatch.\n",
    "* Being an experimental design, we can make a causal statement that the Stroop efect holds and that word-color congruence does impact the response time."
   ]
  },
  {
   "cell_type": "markdown",
   "metadata": {},
   "source": [
    "## Optional Task"
   ]
  },
  {
   "cell_type": "markdown",
   "metadata": {},
   "source": [
    "#### what is responsible for the effects observed ?"
   ]
  },
  {
   "cell_type": "markdown",
   "metadata": {},
   "source": [
    "##### ANS -  When the two are matched, the process is simple. When the two are micmatched as in the second experiment, it takes focus and conscious effort to dissociate the two, process the color while suppressing the reading of te word and then naming only the color out loud."
   ]
  },
  {
   "cell_type": "code",
   "execution_count": 36,
   "metadata": {},
   "outputs": [
    {
     "data": {
      "text/plain": [
       "<seaborn.axisgrid.PairGrid at 0x7fceb6197eb8>"
      ]
     },
     "execution_count": 36,
     "metadata": {},
     "output_type": "execute_result"
    },
    {
     "data": {
      "image/png": "[encoded data removed]",
      "text/plain": [
       "<matplotlib.figure.Figure at 0x7fceb61973c8>"
      ]
     },
     "metadata": {},
     "output_type": "display_data"
    }
   ],
   "source": [
    "sns.pairplot(df,hue=\"Congruent\")"
   ]
  },
  {
   "cell_type": "markdown",
   "metadata": {},
   "source": [
    "**Can you think of an alternative or similar task that would result in a similar effect?** \n",
    "\n",
    "Shape-word effect. Words are printed in black in the shape particpants are asked to identify. Then, print words in black in shapes that are not matching the actual shape-word. Another task could be where paricipants are shown word-color mismatches in a language they are comfortable reading in. Then, showing the same color-word mismatch but in a language they cannot read in. This would demonstrate that when posed with only color (even if mismatched in the foreign language), subjects are able to process better as only color identification is enabled."
   ]
  },
  {
   "cell_type": "markdown",
   "metadata": {},
   "source": [
    "#### Resources:\n",
    "* http://www.statisticshowto.com/probability-and-statistics/t-test/\n",
    "* https://en.wikipedia.org/wiki/Stroop_effect\n",
    "* https://towardsdatascience.com/inferential-statistics-series-t-test-using-numpy-2718f8f9bf2f\n",
    "* http://www.statisticssolutions.com/manova-analysis-paired-sample-t-test/\n",
    "* http://www.statisticssolutions.com/manova-analysis-paired-sample-t-test/\n"
   ]
  },
  {
   "cell_type": "markdown",
   "metadata": {},
   "source": [
    "#### Notes:\n",
    "\n",
    "* t-value and p-values are also calculated with 95% confidence interval in Excel using formula for paired t-test.\n",
    "* Results and conclusions match those calculated here."
   ]
  },
  {
   "cell_type": "code",
   "execution_count": null,
   "metadata": {},
   "outputs": [],
   "source": []
  }
 ],
 "metadata": {
  "kernelspec": {
   "display_name": "Python 3",
   "language": "python",
   "name": "python3"
  },
  "language_info": {
   "codemirror_mode": {
    "name": "ipython",
    "version": 3
   },
   "file_extension": ".py",
   "mimetype": "text/x-python",
   "name": "python",
   "nbconvert_exporter": "python",
   "pygments_lexer": "ipython3",
   "version": "3.6.3"
  }
 },
 "nbformat": 4,
 "nbformat_minor": 2
}
